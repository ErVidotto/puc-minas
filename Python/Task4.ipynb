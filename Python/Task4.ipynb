{
  "nbformat": 4,
  "nbformat_minor": 0,
  "metadata": {
    "colab": {
      "private_outputs": true,
      "provenance": []
    },
    "kernelspec": {
      "name": "python3",
      "display_name": "Python 3"
    },
    "language_info": {
      "name": "python"
    }
  },
  "cells": [
    {
      "cell_type": "code",
      "execution_count": null,
      "metadata": {
        "id": "prnx02Tw-H66"
      },
      "outputs": [],
      "source": [
        "class Automovel:\n",
        "    def __init__(self):\n",
        "        self.cor = None\n",
        "        self.marca = None\n",
        "        self.modelo = None\n",
        "        self.ano_fabricacao = None\n",
        "        self.numero_portas = None\n",
        "        self.chassi = None\n",
        "        self.placa = None\n",
        "\n",
        "    def imprimir(self, automovel):\n",
        "        print(\"Marca ...:\" + automovel.marca)\n",
        "        print(\"Modelo ...:\" + automovel.modelo)\n",
        "        print(\"Placa ...:\" + automovel.placa)\n",
        "        print(\"chasso ...:\" + automovel.chassi)\n",
        "        print(\"numero_porta ...:\" + str(automovel.numero_porta))\n",
        "        print(\"Ano_fabricacao ...:\" + str(automovel.ano_fabricacao))\n",
        "\n",
        "    def ligar(self):\n",
        "        print(\"Automovel ligando ...\")\n",
        "\n",
        "    def desligar (self):\n",
        "        print(\"Automovel deligando ...\")\n",
        "\n",
        "    def frear(self):\n",
        "        print(\"Automovel freando ...\")\n",
        "\n",
        "    def acelerar(self):\n",
        "        print(\"Automovel acelerando ...\")\n",
        "\n",
        "    def travar_portas(self):\n",
        "        print(\"Automovel travando as portasl ...\")\n",
        "\n",
        "for x in range(2):\n",
        "    a = Automovel()\n",
        "    a.marca = input(\"Digite a Marca do automovel: \")\n",
        "    a.modelo = input(\"Digite o Modelo do automovel: \")\n",
        "    a.placa = input(\"Digite a Placa do automovel: \")\n",
        "    a.chassi = input(\"Digite o Chassi do automovel: \")\n",
        "    a.numero_porta = int(input(\"Digite o Numero de portas do automovel: \"))\n",
        "    a.ano_fabricacao = int(input(\"Digite o Ano de fabricacao: \"))\n",
        "    a.imprimir(a)\n",
        "    a.ligar()\n",
        "    a.travar_portas()\n",
        "    a.acelerar()\n",
        "    a.frear()\n",
        "    a.desligar()\n"
      ]
    }
  ]
}