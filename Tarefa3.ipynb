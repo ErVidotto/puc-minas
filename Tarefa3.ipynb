{
 "cells": [
  {
   "cell_type": "code",
   "execution_count": 30,
   "metadata": {},
   "outputs": [],
   "source": [
    "# Inicializando um dicionário vazio para armazenar as temperaturas\n",
    "temperaturas_anuais = {}"
   ]
  },
  {
   "cell_type": "code",
   "execution_count": 31,
   "metadata": {},
   "outputs": [],
   "source": [
    "# Lista com os nomes dos meses\n",
    "meses = [\"Janeiro\", \"Fevereiro\", \"Março\", \"Abril\", \"Maio\", \"Junho\",\n",
    "         \"Julho\", \"Agosto\", \"Setembro\", \"Outubro\", \"Novembro\", \"Dezembro\"]"
   ]
  },
  {
   "cell_type": "code",
   "execution_count": 32,
   "metadata": {},
   "outputs": [],
   "source": [
    "# Pedindo ao usuário que insira as temperaturas para cada mês\n",
    "for mes in meses:\n",
    "    temperatura = float(input(f\"Digite a temperatura média para {mes}: \"))\n",
    "    temperaturas_anuais[mes] = temperatura"
   ]
  },
  {
   "cell_type": "code",
   "execution_count": 33,
   "metadata": {},
   "outputs": [],
   "source": [
    "# Calculando a média anual das temperaturas\n",
    "media_anual = sum(temperaturas_anuais.values()) / len(temperaturas_anuais)\n"
   ]
  },
  {
   "cell_type": "code",
   "execution_count": 34,
   "metadata": {},
   "outputs": [],
   "source": [
    "# Encontrando os meses com temperaturas acima da média anual\n",
    "meses_acima_media = [mes for mes, temperatura in temperaturas_anuais.items() if temperatura > media_anual]\n"
   ]
  },
  {
   "cell_type": "code",
   "execution_count": 35,
   "metadata": {},
   "outputs": [
    {
     "name": "stdout",
     "output_type": "stream",
     "text": [
      "\n",
      "Temperaturas digitadas:\n",
      "No mês de Janeiro, a temperatura média foi: 29.0\n",
      "No mês de Fevereiro, a temperatura média foi: 29.0\n",
      "No mês de Março, a temperatura média foi: 29.0\n",
      "No mês de Abril, a temperatura média foi: 29.0\n",
      "No mês de Maio, a temperatura média foi: 32.0\n",
      "No mês de Junho, a temperatura média foi: 29.0\n",
      "No mês de Julho, a temperatura média foi: 29.0\n",
      "No mês de Agosto, a temperatura média foi: 29.0\n",
      "No mês de Setembro, a temperatura média foi: 29.0\n",
      "No mês de Outubro, a temperatura média foi: 29.0\n",
      "No mês de Novembro, a temperatura média foi: 29.0\n",
      "No mês de Dezembro, a temperatura média foi: 29.0\n",
      "\n",
      "Média anual de temperaturas: 29.25\n",
      "Meses com temperaturas acima da média anual: ['Maio']\n"
     ]
    }
   ],
   "source": [
    "# Exibindo resultados\n",
    "print(\"\\nTemperaturas digitadas:\")\n",
    "for mes, temperatura in temperaturas_anuais.items():\n",
    "    print(f\"No mês de {mes}, a temperatura média foi: {temperatura}\")\n",
    "\n",
    "print(\"\\nMédia anual de temperaturas:\", media_anual)\n",
    "print(\"Meses com temperaturas acima da média anual:\", meses_acima_media)\n"
   ]
  }
 ],
 "metadata": {
  "kernelspec": {
   "display_name": "Python 3",
   "language": "python",
   "name": "python3"
  },
  "language_info": {
   "codemirror_mode": {
    "name": "ipython",
    "version": 3
   },
   "file_extension": ".py",
   "mimetype": "text/x-python",
   "name": "python",
   "nbconvert_exporter": "python",
   "pygments_lexer": "ipython3",
   "version": "3.10.11"
  }
 },
 "nbformat": 4,
 "nbformat_minor": 2
}
