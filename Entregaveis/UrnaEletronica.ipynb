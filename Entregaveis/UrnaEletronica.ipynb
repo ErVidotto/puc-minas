class UrnaEletronica:
    def __init__(self):
        self.candidatos = {}
        self.votos_brancos = 0
        self.votos_nulos = 0

    def adicionar_candidato(self, nome, codigo):
        if codigo not in self.candidatos.values():
            self.candidatos[nome] = {"codigo": codigo, "votos": 0}
        else:
            print("Código já existente. Por favor, escolha outro código.")

    def votar(self, escolha):
        if escolha in self.candidatos:
            self.candidatos[escolha]["votos"] += 1
            print("Seu voto foi computado com sucesso para:", escolha)
        elif escolha.isdigit():
            for candidato in self.candidatos.values():
                if candidato["codigo"] == int(escolha):
                    candidato["votos"] += 1
                    print("Seu voto foi computado com sucesso para:", list(self.candidatos.keys())[list(self.candidatos.values()).index(candidato)])
                    break
            else:
                print("Código de candidato inválido. Por favor, escolha um código válido.")
        elif escolha.lower() == "branco":
            self.votos_brancos += 1
            print("Seu voto em branco foi computado com sucesso!")
        elif escolha.lower() == "nulo":
            self.votos_nulos += 1
            print("Seu voto nulo foi computado com sucesso!")
        else:
            print("Opção inválida.")

    def mostrar_resultados(self):
        print("Resultados da votação:")
        for candidato in self.candidatos.values():
            print(f"{list(self.candidatos.keys())[list(self.candidatos.values()).index(candidato)]} (Código: {candidato['codigo']}): {candidato['votos']} votos")
        print(f"Votos em branco: {self.votos_brancos}")
        print(f"Votos nulos: {self.votos_nulos}")

    def mostrar_vencedor(self):
        votos_candidatos = [candidato["votos"] for candidato in self.candidatos.values()]
        if votos_candidatos:
            vencedor_index = votos_candidatos.index(max(votos_candidatos))
            vencedor_nome = list(self.candidatos.keys())[vencedor_index]
            print(f"O candidato mais votado foi: {vencedor_nome}")
        else:
            print("Nenhum voto registrado.")

# Criando uma urna eletrônica
urna = UrnaEletronica()

# Gerando 5 candidatos aleatórios e seus códigos
candidatos = [
    ("Erick Rodrigo", 99),
    ("Sabrina Rodrigues", 13),
    ("Valdeci", 17),
    ("Jose Elcio", 22),
    ("Bolinha", 171)
    ]

for candidato, codigo in candidatos:
    urna.adicionar_candidato(candidato, codigo)

# Simulando votação
while True:
    escolha = input("Digite o nome ou código do candidato, 'Branco'/'Nulo' para votar em branco ou nulo. Digite 'Fim' para encerrar a votação: ")
    if escolha.lower() == 'fim':
        break
    urna.votar(escolha)

# Mostrando resultados
urna.mostrar_resultados()
urna.mostrar_vencedor()
