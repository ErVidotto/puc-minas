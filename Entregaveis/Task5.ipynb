{
 "cells": [
  {
   "cell_type": "code",
   "execution_count": 3,
   "metadata": {},
   "outputs": [
    {
     "name": "stdout",
     "output_type": "stream",
     "text": [
      "Arquivos para Engenharia gravados com sucesso!\n",
      "\n",
      "Resultados dos aprovados na disciplina Engenharia:\n",
      "Erick: 9.0\n",
      "Sabrina: 6.5\n",
      "\n",
      "Resultados dos reprovados na disciplina Engenharia:\n",
      "Arquivos para NoSql gravados com sucesso!\n",
      "\n",
      "Resultados dos aprovados na disciplina NoSql:\n",
      "Erick: 7.25\n",
      "Sabrina: 9.5\n",
      "\n",
      "Resultados dos reprovados na disciplina NoSql:\n"
     ]
    }
   ],
   "source": [
    "def calcular_media(notas):\n",
    "    return sum(notas) / len(notas)\n",
    "\n",
    "def ler_arquivo(nome_arquivo):\n",
    "    with open(nome_arquivo, \"r\") as f:\n",
    "        linhas = f.readlines()\n",
    "        for linha in linhas:\n",
    "            print(linha.strip())\n",
    "\n",
    "# Solicita a quantidade de disciplinas\n",
    "num_disciplinas = int(input(\"Digite a quantidade de disciplinas: \"))\n",
    "\n",
    "# Loop para cada disciplina\n",
    "for _ in range(num_disciplinas):\n",
    "    # Solicita o nome da disciplina\n",
    "    disciplina = input(\"Digite o nome da disciplina: \")\n",
    "\n",
    "    # Solicita a quantidade de alunos\n",
    "    num_alunos = int(input(f\"Digite a quantidade de alunos para a disciplina {disciplina}: \"))\n",
    "\n",
    "    # Lista para armazenar os dados dos alunos\n",
    "    alunos = []\n",
    "\n",
    "    # Pede as notas de cada aluno\n",
    "    for i in range(num_alunos):\n",
    "        nome = input(f\"Digite o nome do aluno {i+1}: \")\n",
    "        notas = [float(input(f\"Digite a nota {j+1} do aluno {nome}: \")) for j in range(4)]\n",
    "        alunos.append((nome, notas))\n",
    "\n",
    "    # Calcula a média de cada aluno e decide se está aprovado ou reprovado\n",
    "    aprovados = [(aluno[0], calcular_media(aluno[1])) for aluno in alunos if calcular_media(aluno[1]) >= 6.0]\n",
    "    reprovados = [(aluno[0], calcular_media(aluno[1])) for aluno in alunos if calcular_media(aluno[1]) < 6.0]\n",
    "\n",
    "    # Grava os dados dos aprovados em um arquivo\n",
    "    with open(f\"aprovados_{disciplina}.txt\", \"w\") as f:\n",
    "        for aluno in aprovados:\n",
    "            f.write(f\"{aluno[0]}: {aluno[1]}\\n\")\n",
    "\n",
    "    # Grava os dados dos reprovados em outro arquivo\n",
    "    with open(f\"reprovados_{disciplina}.txt\", \"w\") as f:\n",
    "        for aluno in reprovados:\n",
    "            f.write(f\"{aluno[0]}: {aluno[1]}\\n\")\n",
    "\n",
    "    print(f\"Arquivos para {disciplina} gravados com sucesso!\")\n",
    "\n",
    "    # Mostra os resultados gravados\n",
    "    print(f\"\\nResultados dos aprovados na disciplina {disciplina}:\")\n",
    "    ler_arquivo(f\"aprovados_{disciplina}.txt\")\n",
    "\n",
    "    print(f\"\\nResultados dos reprovados na disciplina {disciplina}:\")\n",
    "    ler_arquivo(f\"reprovados_{disciplina}.txt\")\n"
   ]
  }
 ],
 "metadata": {
  "kernelspec": {
   "display_name": "Python 3",
   "language": "python",
   "name": "python3"
  },
  "language_info": {
   "codemirror_mode": {
    "name": "ipython",
    "version": 3
   },
   "file_extension": ".py",
   "mimetype": "text/x-python",
   "name": "python",
   "nbconvert_exporter": "python",
   "pygments_lexer": "ipython3",
   "version": "3.10.11"
  }
 },
 "nbformat": 4,
 "nbformat_minor": 2
}
