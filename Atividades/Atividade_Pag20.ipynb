{
  "nbformat": 4,
  "nbformat_minor": 0,
  "metadata": {
    "colab": {
      "private_outputs": true,
      "provenance": [],
      "authorship_tag": "ABX9TyOF5mT+QWRQPFzknP3Z6wGN",
      "include_colab_link": true
    },
    "kernelspec": {
      "name": "python3",
      "display_name": "Python 3"
    },
    "language_info": {
      "name": "python"
    }
  },
  "cells": [
    {
      "cell_type": "markdown",
      "metadata": {
        "id": "view-in-github",
        "colab_type": "text"
      },
      "source": [
        "<a href=\"https://colab.research.google.com/github/ErVidotto/puc-minas/blob/main/Atividade_Pag20.ipynb\" target=\"_parent\"><img src=\"https://colab.research.google.com/assets/colab-badge.svg\" alt=\"Open In Colab\"/></a>"
      ]
    },
    {
      "cell_type": "code",
      "execution_count": null,
      "metadata": {
        "id": "KpJRIge7XF96"
      },
      "outputs": [],
      "source": [
        "# Criando o dicionário com os dados da pessoa\n",
        "dados_pessoa = {\n",
        "    'Nome': 'Erick',\n",
        "    'Sobrenome': 'Vidotto',\n",
        "    'Idade': 29,\n",
        "    'Curso': 'Engenharia',\n",
        "    'Endereço': 'Rua Santa Maria, 13'\n",
        "}\n",
        "\n",
        "# A) Imprimindo o dicionário completo\n",
        "print(\"Dicionário completo:\")\n",
        "print(dados_pessoa)\n",
        "print()\n",
        "\n",
        "# B) Imprimindo cada item separadamente\n",
        "print(\"Itens :\")\n",
        "print(\"Nome:\", dados_pessoa['Nome'])\n",
        "print(\"Sobrenome:\", dados_pessoa['Sobrenome'])\n",
        "print(\"Idade:\", dados_pessoa['Idade'])\n",
        "print(\"Curso:\", dados_pessoa['Curso'])\n",
        "print(\"Endereço:\", dados_pessoa['Endereço'])\n",
        "print()\n",
        "\n",
        "# C) Excluindo a chave 'Curso' do dicionário\n",
        "del dados_pessoa['Curso']\n",
        "print(\"Dicionário sem a chave 'Curso':\")\n",
        "print(dados_pessoa)\n",
        "print()\n",
        "\n",
        "# D) Alterando o Sobrenome para 'Lopes'\n",
        "dados_pessoa['Sobrenome'] = 'Lopes'\n",
        "print(\"Dicionário com Sobrenome alterado:\")\n",
        "print(dados_pessoa)\n",
        "print()\n",
        "\n",
        "# E) Imprimindo novamente o dicionário completo\n",
        "print(\"Novo Dicionário completo:\")\n",
        "print(dados_pessoa)\n",
        "print()\n",
        "\n",
        "# F) Imprimindo apenas o endereço\n",
        "print(\"Endereço:\")\n",
        "print(dados_pessoa['Endereço'])\n",
        "print()\n",
        "\n",
        "# G) Criando uma cópia do dicionário e alterando Nome e Idade\n",
        "dados_pessoa_copia = dados_pessoa.copy()\n",
        "dados_pessoa_copia['Nome'] = 'Maria'\n",
        "dados_pessoa_copia['Idade'] = 25\n",
        "\n",
        "# H) Imprimindo o segundo dicionário\n",
        "print(\",Segundo dicionário:\")\n",
        "print(dados_pessoa_copia)\n"
      ]
    },
    {
      "cell_type": "code",
      "source": [
        "# Correção Professor\n",
        "\n",
        "[22:13] Nelson Ribeiro de Carvalho Junior\n",
        "dic = {}\n",
        "dic[\"Nome\"] = input(\"Digite seu Nome: \")\n",
        "dic[\"Sobre Nome\"] = input(\"Digite seu Sobre Nome: \")\n",
        "dic[\"Idade\"] = int(input(\"Digite sua idade: \"))\n",
        "dic[\"Curso\"] = input(\"Digite seu Curso: \")\n",
        "dic[\"Endereço\"] = input(\"Digite seu Endereço: \")\n",
        "print(dic.items())\n",
        "print(\"Nome \" + dic[\"Nome\"])\n",
        "print(\"Sobre Nome \" + dic[\"Sobre Nome\"])\n",
        "print(\"Idade \" + str(dic[\"Idade\"]) )\n",
        "print(\"Curso \" + dic[\"Curso\"])\n",
        "print(\"Endereço \" + dic[\"Endereço\"])\n",
        "del dic[\"Curso\"]\n",
        "dic[\"Sobre Nome\"] = \"Lopes\"\n",
        "print(dic.items())\n",
        "print(\"Endereço \" + dic[\"Endereço\"])\n",
        "copia_dic = dic\n",
        "copia_dic[\"Nome\"] = input(\"Digite seu Nome: \")\n",
        "copia_dic[\"Idade\"] = int(input(\"Digite sua idade: \"))\n",
        "print(copia_dic.items())"
      ],
      "metadata": {
        "id": "BKpkmgAMeP0z"
      },
      "execution_count": null,
      "outputs": []
    }
  ]
}