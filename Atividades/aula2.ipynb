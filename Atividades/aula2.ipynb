{
 "cells": [
  {
   "cell_type": "code",
   "execution_count": 11,
   "metadata": {},
   "outputs": [
    {
     "name": "stdout",
     "output_type": "stream",
     "text": [
      "Nome ...: Erick\n",
      "Idade ..: 29\n",
      "Sexo ...: M\n",
      "Peso ...: 107.0\n",
      "Altura .: 1.74\n",
      "Cor ....: Pardo\n"
     ]
    }
   ],
   "source": [
    "from Pessoa import Pessoa\n",
    "\n",
    "pessoa = Pessoa()\n",
    "pessoa.nome = input(\"Digite seu nome: \")\n",
    "pessoa.cor = input(\"Digite sua cor: \")\n",
    "pessoa.idade = int(input(\"Digite sua idade: \"))\n",
    "pessoa.peso = float(input(\"Digite seu peso: \"))\n",
    "pessoa.sexo = input(\"Digite seu sexo: \")\n",
    "pessoa.altura = float(input(\"Digite sua altura: \"))\n",
    "\n",
    "print(\"Nome ...: \" + pessoa.nome)\n",
    "print(\"Idade ..: \" + str(pessoa.idade))\n",
    "print(\"Sexo ...: \" + pessoa.sexo)\n",
    "print(\"Peso ...: \" + str(pessoa.peso))\n",
    "print(\"Altura .: \" + str(pessoa.altura))\n",
    "print(\"Cor ....: \" + pessoa.cor)\n"
   ]
  }
 ],
 "metadata": {
  "kernelspec": {
   "display_name": "Python 3",
   "language": "python",
   "name": "python3"
  },
  "language_info": {
   "codemirror_mode": {
    "name": "ipython",
    "version": 3
   },
   "file_extension": ".py",
   "mimetype": "text/x-python",
   "name": "python",
   "nbconvert_exporter": "python",
   "pygments_lexer": "ipython3",
   "version": "3.10.11"
  }
 },
 "nbformat": 4,
 "nbformat_minor": 2
}
