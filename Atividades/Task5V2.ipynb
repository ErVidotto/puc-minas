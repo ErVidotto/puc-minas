{
 "cells": [
  {
   "cell_type": "code",
   "execution_count": 7,
   "metadata": {},
   "outputs": [
    {
     "data": {
      "text/plain": [
       "<function TextIOWrapper.close()>"
      ]
     },
     "execution_count": 7,
     "metadata": {},
     "output_type": "execute_result"
    }
   ],
   "source": [
    "quantidade = int(input(\"Favor digite a quantidade de alunos deseja cadastrar. : \"))\n",
    "nome__disciplina = input(\"Favor informe o nome da disciplina que deseja cadastrar.: \")\n",
    "cont = 0\n",
    "aprovados = open(\"Aprovados_\"+ nome__disciplina + \".txt\", \"w\")\n",
    "reprovados = open(\"Reprovados_\"+ nome__disciplina + \".txt\", \"w\")\n",
    "\n",
    "while(cont<quantidade):\n",
    "    nome = input(\"Favor informe o nome do aluno. :\")\n",
    "    nota = float(input(\"Favor informe a nota dinal do aluno\"))\n",
    "\n",
    "    if(nota >=6):\n",
    "        aprovados.write(nome + \" nota final = \" + str(nota) + \"\\n\")\n",
    "    else:\n",
    "        reprovados.write(nome + \" nota final = \" + str(nota) + \"\\n\")\n",
    "\n",
    "    cont += 1\n",
    "\n",
    "reprovados.close\n",
    "aprovados.close"
   ]
  },
  {
   "cell_type": "code",
   "execution_count": null,
   "metadata": {},
   "outputs": [],
   "source": [
    "quantidade = int(input(\"Favor digite a quantidade de alunos deseja de cadastrar. :\"))\n",
    "nome_disciplina = input(\"Favor informe o nome da discilina que deseja cadastrar. :\")\n",
    "cont = 0\n",
    "aprovados = open(\"Aprovados_\"+ nome_disciplina + \".txt\", \"w\")\n",
    "reprovados = open(\"Reprovados_\"+ nome_disciplina + \".txt\", \"w\")\n",
    " \n",
    "while(cont < quantidade):\n",
    "  nome = input(\"Favor informe o nome do aluno :\")\n",
    "  nota = float(input(\"Favor informe a nota final do aluno :\"))\n",
    " \n",
    "  if(nota >= 6):\n",
    "    aprovados.write(nome + \" nota final = \" + str(nota) + \"\\n\")\n",
    "  else:\n",
    "    reprovados.write(nome + \" nota final = \" + str(nota) + \"\\n\")\n",
    " \n",
    "  cont += 1  \n",
    " \n",
    "reprovados.close()\n",
    "aprovados.close()"
   ]
  }
 ],
 "metadata": {
  "kernelspec": {
   "display_name": "Python 3",
   "language": "python",
   "name": "python3"
  },
  "language_info": {
   "codemirror_mode": {
    "name": "ipython",
    "version": 3
   },
   "file_extension": ".py",
   "mimetype": "text/x-python",
   "name": "python",
   "nbconvert_exporter": "python",
   "pygments_lexer": "ipython3",
   "version": "3.10.11"
  }
 },
 "nbformat": 4,
 "nbformat_minor": 2
}
