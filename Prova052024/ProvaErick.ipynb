{
  "cells": [
    {
      "cell_type": "code",
      "execution_count": 1,
      "metadata": {
        "colab": {
          "base_uri": "https://localhost:8080/"
        },
        "id": "VZMVg1fK3mOI",
        "outputId": "d5007f3e-4409-4889-b829-6a66e84fe314"
      },
      "outputs": [
        {
          "name": "stdout",
          "output_type": "stream",
          "text": [
            "Faixa etária com maior população masculina: População Total, população: 609242268.0\n",
            "Faixa etária com maior população feminina: 40 a 44 anos, população: 48216510.0\n",
            "Município com mais homens na faixa etária entre 25 e 29 anos: Brasil, população: 7627458.0\n",
            "Município com menos homens na faixa etária entre 25 e 29 anos: Roraima, população: 27568.0\n",
            "Resultados salvos nos arquivos erick_vidotto.xlsx e erick_vidotto.json\n"
          ]
        }
      ],
      "source": [
        "import pandas as pd\n",
        "\n",
        "# Ler o arquivo Excel ignorando as primeiras 4 linhas\n",
        "df = pd.read_excel('tabela9514_grupo_idade_BR_GR_UF.xlsx', skiprows=5)\n",
        "\n",
        "# Redefinir os nomes das colunas\n",
        "novos_nomes = {\n",
        "    'Unnamed: 0': 'Unidade da Federação e Município',\n",
        "    'Unnamed: 1': 'Forma de declaração da idade',\n",
        "    'Total': 'População Total',\n",
        "    'Total.1': 'População Total Homens',\n",
        "    'Total.2': 'População Total Mulheres'\n",
        "}\n",
        "\n",
        "df.rename(columns=novos_nomes, inplace=True)\n",
        "\n",
        "# Converter as faixas etárias para valores numéricos\n",
        "faixas_etarias = df.iloc[:, 2:].apply(pd.to_numeric, errors='coerce')\n",
        "\n",
        "# Calcular a soma da população masculina e feminina para cada faixa etária\n",
        "soma_por_faixa_etaria_homem = faixas_etarias.iloc[:, ::2].sum()\n",
        "soma_por_faixa_etaria_mulher = faixas_etarias.iloc[:, 1::2].sum()\n",
        "\n",
        "# Identificar a faixa etária com a maior população masculina e feminina\n",
        "max_faixa_etaria_homem = soma_por_faixa_etaria_homem.idxmax()\n",
        "max_populacao_homem = soma_por_faixa_etaria_homem[max_faixa_etaria_homem]\n",
        "\n",
        "max_faixa_etaria_mulher = soma_por_faixa_etaria_mulher.idxmax()\n",
        "max_populacao_mulher = soma_por_faixa_etaria_mulher[max_faixa_etaria_mulher]\n",
        "\n",
        "# Questão A\n",
        "print(f\"Faixa etária com maior população masculina: {max_faixa_etaria_homem}, população: {max_populacao_homem}\")\n",
        "print(f\"Faixa etária com maior população feminina: {max_faixa_etaria_mulher}, população: {max_populacao_mulher}\")\n",
        "\n",
        "# Questão B\n",
        "indice_max_homens_25_29 = faixas_etarias['25 a 29 anos.1'].idxmax()\n",
        "municipio_max_homens_25_29 = df.loc[indice_max_homens_25_29, 'Unidade da Federação e Município']\n",
        "populacao_max_homens_25_29 = faixas_etarias.loc[indice_max_homens_25_29, '25 a 29 anos.1']\n",
        "\n",
        "print(f\"Município com mais homens na faixa etária entre 25 e 29 anos: {municipio_max_homens_25_29}, população: {populacao_max_homens_25_29}\")\n",
        "\n",
        "# Questão C\n",
        "indice_min_homens_25_29 = faixas_etarias['25 a 29 anos.1'].idxmin()\n",
        "municipio_min_homens_25_29 = df.loc[indice_min_homens_25_29, 'Unidade da Federação e Município']\n",
        "populacao_min_homens_25_29 = faixas_etarias.loc[indice_min_homens_25_29, '25 a 29 anos.1']\n",
        "\n",
        "print(f\"Município com menos homens na faixa etária entre 25 e 29 anos: {municipio_min_homens_25_29}, população: {populacao_min_homens_25_29}\")\n",
        "\n",
        "# Criar um DataFrame com os resultados\n",
        "resultados = pd.DataFrame({\n",
        "    'Questão': ['Faixa etária com maior população masculina',\n",
        "                'Faixa etária com maior população feminina',\n",
        "                'Município com mais homens na faixa etária entre 25 e 29 anos',\n",
        "                'Município com menos homens na faixa etária entre 25 e 29 anos'],\n",
        "    'Resultado': [f\"{max_faixa_etaria_homem}, população: {max_populacao_homem}\",\n",
        "                  f\"{max_faixa_etaria_mulher}, população: {max_populacao_mulher}\",\n",
        "                  f\"{municipio_max_homens_25_29}, população: {populacao_max_homens_25_29}\",\n",
        "                  f\"{municipio_min_homens_25_29}, população: {populacao_min_homens_25_29}\"]\n",
        "}\n",
        "\n",
        "# Salvar os resultados em um arquivo Excel\n",
        "resultados.to_excel('erick_vidotto.xlsx', index=False)\n",
        "\n",
        "# Salvar os resultados em um arquivo JSON\n",
        "resultados.to_json('erick_vidotto.json', orient='records', force_ascii=False, indent=4)\n",
        "\n",
        "print(\"Resultados salvos nos arquivos erick_vidotto.xlsx e erick_vidotto.json\")\n"
      ]
    }
  ],
  "metadata": {
    "colab": {
      "provenance": []
    },
    "kernelspec": {
      "display_name": "Python 3",
      "name": "python3"
    },
    "language_info": {
      "codemirror_mode": {
        "name": "ipython",
        "version": 3
      },
      "file_extension": ".py",
      "mimetype": "text/x-python",
      "name": "python",
      "nbconvert_exporter": "python",
      "pygments_lexer": "ipython3",
      "version": "3.10.11"
    }
  },
  "nbformat": 4,
  "nbformat_minor": 0
}
